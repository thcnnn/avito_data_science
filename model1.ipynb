{
 "cells": [
  {
   "cell_type": "code",
   "execution_count": 15,
   "id": "1c8bc225-aca8-49a9-9658-3d9cccd6a0d9",
   "metadata": {},
   "outputs": [],
   "source": [
    "#Идея - использовать модификацию реккурентной сети (lstm) для предсказания появления пробела в предложении\n",
    "# не такая ресурсоемкая, но эффективная. Реккурентные сети отслеживают как текущую картину так и всю последовательность по порядку, поэтому выбор пал на нее\n",
    "import torch\n",
    "import torch.nn as nn\n",
    "import torch.optim as optim\n",
    "from collections import Counter\n",
    "from torch.utils.data import Dataset, DataLoader\n",
    "from torch.optim.lr_scheduler import ReduceLROnPlateau\n",
    "import pandas as pd\n",
    "import numpy as np\n",
    "import ast\n",
    "from sklearn.metrics import accuracy_score, f1_score, precision_score, recall_score\n",
    "from sklearn.model_selection import train_test_split"
   ]
  },
  {
   "cell_type": "code",
   "execution_count": 16,
   "id": "026fe420-e1e1-4881-884f-f7e80b648a12",
   "metadata": {},
   "outputs": [],
   "source": [
    "def preprocess_text(text):\n",
    "    return text.lower()\n",
    "def build_vocab(sentences, max_size=120): #строю словарь по частоте появления символов\n",
    "    counter = Counter()\n",
    "    for sentence in sentences:\n",
    "        chars = list(preprocess_text(sentence))\n",
    "        counter.update(chars)\n",
    "    most_common = counter.most_common(max_size)\n",
    "    vocab = {word: idx + 1 for idx, (word, _) in enumerate(most_common)}\n",
    "    vocab['<PAD>'] = 0\n",
    "    return vocab\n",
    "def text_to_seq(text, vocab, max_length=120): # перевод текста в числовой вид (для этого и нужен словарь)\n",
    "    text = preprocess_text(text)\n",
    "    sequence = [vocab.get(ch, 0) for ch in list(text)]\n",
    "    if len(sequence) > max_length:\n",
    "        sequence = sequence[:max_length]\n",
    "    else:\n",
    "        sequence += [vocab['<PAD>']] * (max_length - len(sequence))\n",
    "    return sequence\n",
    "def pad_target(target, max_length=120): #добавляем паддинг тк не все предложения одной длины\n",
    "    if len(target) < max_length:\n",
    "        target = target + [0] * (max_length - len(target))\n",
    "    else:\n",
    "        target = target[:max_length]\n",
    "    return target\n"
   ]
  },
  {
   "cell_type": "code",
   "execution_count": 17,
   "id": "9cb8f7b8-15f2-43a7-8bfd-510720706c79",
   "metadata": {},
   "outputs": [],
   "source": [
    "sentences = pd.read_csv('data.csv')\n",
    "sentences['y'] = sentences['y'].apply(ast.literal_eval) # читаем строку как список"
   ]
  },
  {
   "cell_type": "code",
   "execution_count": 18,
   "id": "e017a4ba-dbb5-48d0-90d2-6835c7536f5c",
   "metadata": {},
   "outputs": [],
   "source": [
    "vocab= build_vocab(sentences['x']) #строим словарь по обучающим данным"
   ]
  },
  {
   "cell_type": "code",
   "execution_count": 19,
   "id": "b9512e16-54ab-4636-a1a0-4a4c69b6d595",
   "metadata": {},
   "outputs": [],
   "source": [
    "class WordDataset(Dataset): #кастомный датасет\n",
    "    def __init__(self, X, Y):\n",
    "        self.X = torch.tensor(X, dtype=torch.long)\n",
    "        self.Y = torch.tensor(Y, dtype=torch.float32)\n",
    "\n",
    "    def __len__(self):\n",
    "        return len(self.X)\n",
    "\n",
    "    def __getitem__(self, idx):\n",
    "        return self.X[idx], self.Y[idx]"
   ]
  },
  {
   "cell_type": "code",
   "execution_count": 20,
   "id": "d7025bd5-20e2-44ec-86c2-ca74cf13902c",
   "metadata": {},
   "outputs": [],
   "source": [
    "X = sentences['x'].apply(text_to_seq, vocab=vocab)\n",
    "Y = sentences['y'].apply(pad_target)\n",
    "X, Y = X.tolist(), Y.tolist()\n",
    "x_train, x_valid, y_train, y_valid = train_test_split( # делим на тестовую и обучающую\n",
    "    X, Y, test_size=0.15, random_state=42, shuffle=True)"
   ]
  },
  {
   "cell_type": "code",
   "execution_count": 21,
   "id": "7e77da4c-84b4-4538-a0c0-b8d365ddc4c9",
   "metadata": {},
   "outputs": [],
   "source": [
    "train_dataset = WordDataset(x_train, y_train) #используем даталоадеры для того чтобы потом удобно работать с моделью\n",
    "valid_dataset = WordDataset(x_valid, y_valid)\n",
    "train_loader = DataLoader(train_dataset, batch_size=20, shuffle=True)\n",
    "val_loader = DataLoader(valid_dataset, batch_size=20)"
   ]
  },
  {
   "cell_type": "code",
   "execution_count": 22,
   "id": "f265b3b2-2cdc-4778-a7c2-f981a73678bf",
   "metadata": {},
   "outputs": [],
   "source": [
    "class SpacePredictor(nn.Module):\n",
    "    def __init__(self, vocab_size, embedding_dim, hidden_dim, num_layers, dropout=0.6):\n",
    "        super().__init__()\n",
    "        \n",
    "        self.embedding = nn.Embedding(vocab_size, embedding_dim, padding_idx=0) \n",
    "        self.embedding_dropout = nn.Dropout(0.4)\n",
    "        \n",
    "        self.lstm = nn.LSTM(embedding_dim, hidden_dim, num_layers, \n",
    "                           batch_first=True, bidirectional=True, dropout=dropout) #реккурентный слой\n",
    "        \n",
    "        self.attention = nn.MultiheadAttention(hidden_dim * 2, num_heads=4, \n",
    "                                              dropout=dropout, batch_first=True) #слой внимания\n",
    "        \n",
    "        self.dropout = nn.Dropout(dropout)\n",
    "        self.fc = nn.Linear(hidden_dim * 2, 1)\n",
    "        self.sigmoid = nn.Sigmoid()\n",
    "    \n",
    "    def forward(self, x): # прямой проход\n",
    "        embedded = self.embedding(x)\n",
    "        embedded = self.embedding_dropout(embedded)\n",
    "        \n",
    "        lstm_out, _ = self.lstm(embedded)\n",
    "        attn_out, _ = self.attention(lstm_out, lstm_out, lstm_out)\n",
    "        \n",
    "        output = self.dropout(attn_out)\n",
    "        output = self.fc(output)\n",
    "        return self.sigmoid(output).squeeze(-1)"
   ]
  },
  {
   "cell_type": "code",
   "execution_count": 23,
   "id": "5f2e22b8-487a-4334-b5f8-f78a4d9638ab",
   "metadata": {},
   "outputs": [],
   "source": [
    "def train_model(model, train_loader, val_loader, num_epochs=50, learning_rate=0.001):\n",
    "    device = torch.device('cuda' if torch.cuda.is_available() else 'cpu') #обучал на cuda (rtx 1050 2gb vram)\n",
    "    model = model.to(device)\n",
    "    \n",
    "    criterion = nn.BCELoss() #бинарная кросс-энтропия\n",
    "    optimizer = optim.Adam(model.parameters(), lr=learning_rate)\n",
    "    scheduler = ReduceLROnPlateau(optimizer, mode='max', factor=0.5, #планировщик скорости обучения\n",
    "                                 patience=5, min_lr=1e-6)\n",
    "    \n",
    "    for epoch in range(num_epochs):\n",
    "        model.train()\n",
    "        train_loss = 0\n",
    "        all_train_preds = []\n",
    "        all_train_targets = []\n",
    "        \n",
    "        for data, target in train_loader:\n",
    "            data, target = data.to(device), target.to(device)\n",
    "            \n",
    "            optimizer.zero_grad()\n",
    "            output = model(data)\n",
    "            \n",
    "            loss = criterion(output, target)\n",
    "            loss.backward()\n",
    "            torch.nn.utils.clip_grad_norm_(model.parameters(), max_norm=1.0)\n",
    "            optimizer.step()\n",
    "            \n",
    "            train_loss += loss.item()\n",
    "            \n",
    "            preds = (output > 0.45).float()  # Бинаризация предсказаний\n",
    "            all_train_preds.extend(preds.cpu().detach().numpy().flatten())\n",
    "            all_train_targets.extend(target.cpu().detach().numpy().flatten())\n",
    "        \n",
    "        # Вычисляем метрики для тренировочных данных\n",
    "        train_loss /= len(train_loader)\n",
    "        train_accuracy = accuracy_score(all_train_targets, all_train_preds)\n",
    "        train_f1 = f1_score(all_train_targets, all_train_preds, average='binary', zero_division=0)\n",
    "        train_precision = precision_score(all_train_targets, all_train_preds, average='binary', zero_division=0)\n",
    "        train_recall = recall_score(all_train_targets, all_train_preds, average='binary', zero_division=0)\n",
    "        \n",
    "        # validation\n",
    "        model.eval()\n",
    "        val_loss = 0\n",
    "        all_val_preds = []\n",
    "        all_val_targets = []\n",
    "        \n",
    "        with torch.no_grad():\n",
    "            for vdata, vtarget in val_loader:\n",
    "                vdata, vtarget = vdata.to(device), vtarget.to(device)\n",
    "                output = model(vdata)\n",
    "                loss = criterion(output, vtarget)\n",
    "                val_loss += loss.item()\n",
    "                \n",
    "                preds = (output > 0.45).float()\n",
    "                all_val_preds.extend(preds.cpu().numpy().flatten())\n",
    "                all_val_targets.extend(vtarget.cpu().numpy().flatten())\n",
    "        \n",
    "        # Вычисляем метрики для валидационных данных\n",
    "        val_loss /= len(val_loader)\n",
    "        val_accuracy = accuracy_score(all_val_targets, all_val_preds)\n",
    "        val_f1 = f1_score(all_val_targets, all_val_preds, average='binary', zero_division=0)\n",
    "        val_precision = precision_score(all_val_targets, all_val_preds, average='binary', zero_division=0)\n",
    "        val_recall = recall_score(all_val_targets, all_val_preds, average='binary', zero_division=0)\n",
    "\n",
    "        scheduler.step(val_f1)\n",
    "        \n",
    "        if epoch % 5 == 0 or epoch == num_epochs - 1:\n",
    "            print(f'Epoch {epoch+1}/{num_epochs}')\n",
    "            print(f'Train - Loss: {train_loss:.4f}, Acc: {train_accuracy:.4f}, F1: {train_f1:.4f}, '\n",
    "                  f'Prec: {train_precision:.4f}, Rec: {train_recall:.4f}')\n",
    "            print(f'Valid - Loss: {val_loss:.4f}, Acc: {val_accuracy:.4f}, F1: {val_f1:.4f}, '\n",
    "                  f'Prec: {val_precision:.4f}, Rec: {val_recall:.4f}')\n",
    "            print('-' * 80)"
   ]
  },
  {
   "cell_type": "code",
   "execution_count": 24,
   "id": "9dc346a4-e7e4-4f56-92cf-df6f4f56d484",
   "metadata": {},
   "outputs": [],
   "source": [
    "model = SpacePredictor(vocab_size=len(vocab), embedding_dim=64, hidden_dim=128, num_layers=2, dropout=0.6)"
   ]
  },
  {
   "cell_type": "code",
   "execution_count": 25,
   "id": "c57f133d-028a-4e57-b1e7-ff91e5d62aaa",
   "metadata": {},
   "outputs": [
    {
     "name": "stdout",
     "output_type": "stream",
     "text": [
      "Epoch 1/70\n",
      "Train - Loss: 0.1521, Acc: 0.9469, F1: 0.0065, Prec: 0.0615, Rec: 0.0034\n",
      "Valid - Loss: 0.1338, Acc: 0.9501, F1: 0.0001, Prec: 0.3333, Rec: 0.0001\n",
      "--------------------------------------------------------------------------------\n",
      "Epoch 6/70\n",
      "Train - Loss: 0.1032, Acc: 0.9570, F1: 0.4149, Prec: 0.6671, Rec: 0.3011\n",
      "Valid - Loss: 0.0939, Acc: 0.9605, F1: 0.4755, Prec: 0.7045, Rec: 0.3589\n",
      "--------------------------------------------------------------------------------\n",
      "Epoch 11/70\n",
      "Train - Loss: 0.0903, Acc: 0.9619, F1: 0.5307, Prec: 0.7061, Rec: 0.4251\n",
      "Valid - Loss: 0.0841, Acc: 0.9628, F1: 0.5935, Prec: 0.6524, Rec: 0.5444\n",
      "--------------------------------------------------------------------------------\n",
      "Epoch 16/70\n",
      "Train - Loss: 0.0831, Acc: 0.9648, F1: 0.5840, Prec: 0.7259, Rec: 0.4885\n",
      "Valid - Loss: 0.0786, Acc: 0.9669, F1: 0.6230, Prec: 0.7199, Rec: 0.5490\n",
      "--------------------------------------------------------------------------------\n",
      "Epoch 21/70\n",
      "Train - Loss: 0.0779, Acc: 0.9670, F1: 0.6228, Prec: 0.7403, Rec: 0.5375\n",
      "Valid - Loss: 0.0763, Acc: 0.9683, F1: 0.6519, Prec: 0.7199, Rec: 0.5956\n",
      "--------------------------------------------------------------------------------\n",
      "Epoch 26/70\n",
      "Train - Loss: 0.0737, Acc: 0.9689, F1: 0.6510, Prec: 0.7541, Rec: 0.5727\n",
      "Valid - Loss: 0.0746, Acc: 0.9691, F1: 0.6613, Prec: 0.7296, Rec: 0.6046\n",
      "--------------------------------------------------------------------------------\n",
      "Epoch 31/70\n",
      "Train - Loss: 0.0706, Acc: 0.9703, F1: 0.6732, Prec: 0.7605, Rec: 0.6039\n",
      "Valid - Loss: 0.0773, Acc: 0.9702, F1: 0.6891, Prec: 0.7172, Rec: 0.6632\n",
      "--------------------------------------------------------------------------------\n",
      "Epoch 36/70\n",
      "Train - Loss: 0.0680, Acc: 0.9715, F1: 0.6884, Prec: 0.7701, Rec: 0.6224\n",
      "Valid - Loss: 0.0728, Acc: 0.9714, F1: 0.7032, Prec: 0.7285, Rec: 0.6796\n",
      "--------------------------------------------------------------------------------\n",
      "Epoch 41/70\n",
      "Train - Loss: 0.0653, Acc: 0.9727, F1: 0.7050, Prec: 0.7775, Rec: 0.6449\n",
      "Valid - Loss: 0.0695, Acc: 0.9727, F1: 0.6989, Prec: 0.7754, Rec: 0.6362\n",
      "--------------------------------------------------------------------------------\n",
      "Epoch 46/70\n",
      "Train - Loss: 0.0588, Acc: 0.9754, F1: 0.7395, Prec: 0.7960, Rec: 0.6904\n",
      "Valid - Loss: 0.0732, Acc: 0.9730, F1: 0.7211, Prec: 0.7424, Rec: 0.7011\n",
      "--------------------------------------------------------------------------------\n",
      "Epoch 51/70\n",
      "Train - Loss: 0.0562, Acc: 0.9767, F1: 0.7546, Prec: 0.8089, Rec: 0.7071\n",
      "Valid - Loss: 0.0728, Acc: 0.9736, F1: 0.7240, Prec: 0.7547, Rec: 0.6957\n",
      "--------------------------------------------------------------------------------\n",
      "Epoch 56/70\n",
      "Train - Loss: 0.0544, Acc: 0.9776, F1: 0.7654, Prec: 0.8134, Rec: 0.7228\n",
      "Valid - Loss: 0.0826, Acc: 0.9732, F1: 0.7274, Prec: 0.7386, Rec: 0.7167\n",
      "--------------------------------------------------------------------------------\n",
      "Epoch 61/70\n",
      "Train - Loss: 0.0515, Acc: 0.9786, F1: 0.7772, Prec: 0.8200, Rec: 0.7386\n",
      "Valid - Loss: 0.0781, Acc: 0.9742, F1: 0.7369, Prec: 0.7494, Rec: 0.7248\n",
      "--------------------------------------------------------------------------------\n",
      "Epoch 66/70\n",
      "Train - Loss: 0.0487, Acc: 0.9798, F1: 0.7914, Prec: 0.8301, Rec: 0.7562\n",
      "Valid - Loss: 0.0730, Acc: 0.9746, F1: 0.7410, Prec: 0.7541, Rec: 0.7283\n",
      "--------------------------------------------------------------------------------\n",
      "Epoch 70/70\n",
      "Train - Loss: 0.0476, Acc: 0.9803, F1: 0.7972, Prec: 0.8346, Rec: 0.7629\n",
      "Valid - Loss: 0.0764, Acc: 0.9754, F1: 0.7476, Prec: 0.7651, Rec: 0.7309\n",
      "--------------------------------------------------------------------------------\n"
     ]
    }
   ],
   "source": [
    "history = train_model(model, train_loader, val_loader, num_epochs=70) #обучение "
   ]
  },
  {
   "cell_type": "code",
   "execution_count": 26,
   "id": "6f4ed3c4-3876-463e-b005-97a4b249c8b1",
   "metadata": {},
   "outputs": [],
   "source": [
    "def pred_to_text(text, preds): # идея в том, что текст без пробелов = меньше символов чем с пробелами, поэтому чтобы правильно восстановить пробелы,\n",
    "    result = []                # нужно как бы игнорировать индексы единиц в выходе модели\n",
    "    text_chars = list(text)\n",
    "    i = j = 0\n",
    "\n",
    "    while i < len(preds):\n",
    "        if preds[i] == 0:\n",
    "            # обычный символ → берем из исходного текста\n",
    "            if j < len(text_chars):\n",
    "                result.append(text_chars[j])\n",
    "                j += 1\n",
    "            # если j >= len(text_chars), просто игнорируем (паддинг)\n",
    "        else:\n",
    "            # пробел -> добавляем, текстовый индекс не двигаем\n",
    "            result.append(' ')\n",
    "        i += 1\n",
    "\n",
    "    return ''.join(result)\n",
    "def test_text(model, vocab, text, max_length=120):\n",
    "    device = torch.device('cuda' if torch.cuda.is_available() else 'cpu')\n",
    "    model.eval()\n",
    "    model = model.to(device)\n",
    "    # Convert text to sequence\n",
    "    text_sequence = text_to_seq(text, vocab, max_length)\n",
    "    \n",
    "    # Predict\n",
    "    with torch.no_grad():\n",
    "        input_tensor = torch.tensor(text_sequence, dtype=torch.long).to(device)\n",
    "        output = model(input_tensor)\n",
    "        predictions = (output > 0.5).cpu().numpy()\n",
    "        #print(output)\n",
    "    return pred_to_text(text, predictions)"
   ]
  },
  {
   "cell_type": "code",
   "execution_count": 119,
   "id": "5f77e097-65c5-47a3-b437-7a763115ea1c",
   "metadata": {},
   "outputs": [
    {
     "data": {
      "text/plain": [
       "'Продавец очень хороший рекомендую'"
      ]
     },
     "execution_count": 119,
     "metadata": {},
     "output_type": "execute_result"
    }
   ],
   "source": [
    "test_text(model, vocab, 'Продавецоченьхорошийрекомендую') #Вспомогательная функция восстанавливающая текст"
   ]
  },
  {
   "cell_type": "code",
   "execution_count": 28,
   "id": "d6b3cf77-5dfc-4197-bafe-429841758ea3",
   "metadata": {},
   "outputs": [],
   "source": [
    "def to_avito_answer(prediction): # из за идеи, предложенной выше, мои метки и метки из задания отличались на зазор количества пробелов,\n",
    "    pred=prediction.int()        # поэтому последовательно убираем эти лишние индексы\n",
    "    result = []\n",
    "    space_handicap = 0\n",
    "    for i,e in enumerate(pred):\n",
    "        if e == 1:\n",
    "            result.append(i-space_handicap)\n",
    "            space_handicap += 1\n",
    "    return result"
   ]
  },
  {
   "cell_type": "code",
   "execution_count": 29,
   "id": "b8ccf5ab-0a47-418a-838f-56f40fef8cff",
   "metadata": {},
   "outputs": [
    {
     "data": {
      "text/plain": [
       "SpacePredictor(\n",
       "  (embedding): Embedding(90, 64, padding_idx=0)\n",
       "  (embedding_dropout): Dropout(p=0.4, inplace=False)\n",
       "  (lstm): LSTM(64, 128, num_layers=2, batch_first=True, dropout=0.6, bidirectional=True)\n",
       "  (attention): MultiheadAttention(\n",
       "    (out_proj): NonDynamicallyQuantizableLinear(in_features=256, out_features=256, bias=True)\n",
       "  )\n",
       "  (dropout): Dropout(p=0.6, inplace=False)\n",
       "  (fc): Linear(in_features=256, out_features=1, bias=True)\n",
       "  (sigmoid): Sigmoid()\n",
       ")"
      ]
     },
     "execution_count": 29,
     "metadata": {},
     "output_type": "execute_result"
    }
   ],
   "source": [
    "model"
   ]
  },
  {
   "cell_type": "markdown",
   "id": "026afe55-8c0e-47a7-9233-9e30d7991d02",
   "metadata": {},
   "source": [
    "## тест на данных"
   ]
  },
  {
   "cell_type": "code",
   "execution_count": 111,
   "id": "ad5a70f0-e0cc-4dd2-98da-2fa5fc6c1e02",
   "metadata": {},
   "outputs": [
    {
     "data": {
      "text/plain": [
       "id                        958\n",
       "text_no_spaces    Ночькоротка\n",
       "extra             цельдалека,\n",
       "Name: 959, dtype: object"
      ]
     },
     "metadata": {},
     "output_type": "display_data"
    }
   ],
   "source": [
    "import pandas as pd\n",
    "import torch\n",
    "\n",
    "# загружаем файл, разделяя только по первой запятой\n",
    "def load_task_file(filename):\n",
    "    ids = []\n",
    "    texts = []\n",
    "    extras = []\n",
    "    with open(filename, \"r\", encoding=\"utf-8\") as f:\n",
    "        for line in f:\n",
    "            line = line.rstrip(\"\\n\")\n",
    "            parts = line.split(\",\", 2)  # максимум 3 части\n",
    "            if len(parts) == 3:\n",
    "                id_, text, extra = parts\n",
    "            elif len(parts) == 2:\n",
    "                id_, text = parts\n",
    "                extra = \"\"\n",
    "            else:\n",
    "                continue\n",
    "            ids.append(id_)\n",
    "            texts.append(text)\n",
    "            extras.append(extra)\n",
    "    df = pd.DataFrame({\n",
    "        \"id\": ids,\n",
    "        \"text_no_spaces\": texts,\n",
    "        \"extra\": extras\n",
    "    })\n",
    "    return df\n",
    "\n",
    "df = load_task_file(\"dataset_1937770_3.txt\")\n",
    "# Устройство и модель\n",
    "device = torch.device('cuda' if torch.cuda.is_available() else 'cpu')\n",
    "model.eval()\n",
    "model = model.to(device)\n",
    "\n",
    "# функция для предсказания индексов пробелов\n",
    "def predict_text(text, model, vocab, device, max_length=120):\n",
    "    text_sequence = text_to_seq(text, vocab, max_length)\n",
    "    with torch.no_grad():\n",
    "        input_tensor = torch.tensor(text_sequence, dtype=torch.long).unsqueeze(0).to(device)\n",
    "        output = model(input_tensor)\n",
    "        prediction = (output > 0.5).int().cpu().squeeze(0)\n",
    "        return to_avito_answer(prediction)\n",
    "\n",
    "# добавляем колонку predicted_positions как строку\n",
    "df[\"predicted_positions\"] = df[\"text_no_spaces\"].apply(\n",
    "    lambda x: str(predict_text(x, model, vocab, device))\n",
    ")\n",
    "\n",
    "# сохраняем в txt, с запятой как разделитель\n",
    "with open(\"submission.txt\", \"w\", encoding=\"utf-8\") as f:\n",
    "    f.write('id,text_no_spaces,predicted_positions \\n')\n",
    "    for idx, row in df[1:].iterrows():\n",
    "        # Если extra пустой, не добавляем лишнюю запятую\n",
    "        if row[\"extra\"].strip():\n",
    "            line = f'{row[\"id\"]},{row[\"text_no_spaces\"]},{row[\"extra\"]},\"{row[\"predicted_positions\"]}\"\\n'\n",
    "        else:\n",
    "            line = f'{row[\"id\"]},{row[\"text_no_spaces\"]},\"{row[\"predicted_positions\"]}\"\\n'\n",
    "        f.write(line)\n"
   ]
  },
  {
   "cell_type": "code",
   "execution_count": null,
   "id": "45239f51-e7ea-4a1d-956b-a006a1328ddc",
   "metadata": {},
   "outputs": [],
   "source": []
  }
 ],
 "metadata": {
  "kernelspec": {
   "display_name": "Python 3 (ipykernel)",
   "language": "python",
   "name": "python3"
  },
  "language_info": {
   "codemirror_mode": {
    "name": "ipython",
    "version": 3
   },
   "file_extension": ".py",
   "mimetype": "text/x-python",
   "name": "python",
   "nbconvert_exporter": "python",
   "pygments_lexer": "ipython3",
   "version": "3.13.5"
  }
 },
 "nbformat": 4,
 "nbformat_minor": 5
}
